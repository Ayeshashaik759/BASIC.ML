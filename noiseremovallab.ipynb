{
  "nbformat": 4,
  "nbformat_minor": 0,
  "metadata": {
    "colab": {
      "name": "noiseremovallab.ipynb",
      "provenance": [],
      "authorship_tag": "ABX9TyNRQjwAitIGzIDQ59kA5tsD",
      "include_colab_link": true
    },
    "kernelspec": {
      "name": "python3",
      "display_name": "Python 3"
    },
    "language_info": {
      "name": "python"
    }
  },
  "cells": [
    {
      "cell_type": "markdown",
      "metadata": {
        "id": "view-in-github",
        "colab_type": "text"
      },
      "source": [
        "<a href=\"https://colab.research.google.com/github/Ayeshashaik759/BASIC.ML/blob/main/noiseremovallab.ipynb\" target=\"_parent\"><img src=\"https://colab.research.google.com/assets/colab-badge.svg\" alt=\"Open In Colab\"/></a>"
      ]
    },
    {
      "cell_type": "code",
      "execution_count": null,
      "metadata": {
        "colab": {
          "base_uri": "https://localhost:8080/"
        },
        "id": "14tbX_NPDgxn",
        "outputId": "11d83823-cd81-4466-ef9e-da5f731458dd"
      },
      "outputs": [
        {
          "output_type": "stream",
          "name": "stderr",
          "text": [
            "[nltk_data] Downloading package stopwords to /root/nltk_data...\n",
            "[nltk_data]   Package stopwords is already up-to-date!\n",
            "[nltk_data] Downloading package punkt to /root/nltk_data...\n",
            "[nltk_data]   Unzipping tokenizers/punkt.zip.\n"
          ]
        }
      ],
      "source": [
        "import nltk\n",
        "nltk.download('stopwords')\n",
        "nltk.download('punkt')\n",
        "from nltk.corpus import stopwords\n",
        "from nltk.tokenize import word_tokenize\n",
        "import string"
      ]
    },
    {
      "cell_type": "code",
      "source": [
        "def remove_punctuation(sentence):\n",
        "  for i in sentence:\n",
        "    if i in string.punctuation:\n",
        "      sentence = sentence.replace(i, \"\")\n",
        "  return sentence"
      ],
      "metadata": {
        "id": "vx9eJ_DXGA9b"
      },
      "execution_count": null,
      "outputs": []
    },
    {
      "cell_type": "code",
      "source": [
        "def remove_stopwords(sentence):\n",
        "  stop_words = set(stopwords.words('english'))\n",
        "  word_tokens = word_tokenize(example_sent)\n",
        "  filtered_sentence = []\n",
        "  for w in word_tokens:\n",
        "    if w not in stop_words:\n",
        "      filtered_sentence.append(w)\n",
        "  return filtered_sentence"
      ],
      "metadata": {
        "id": "uCwZCkylGBAH"
      },
      "execution_count": null,
      "outputs": []
    },
    {
      "cell_type": "code",
      "source": [
        "example_sent = \"\"\"We are learning Natural Language Processing (NLP) as part of\n",
        "Fundamentals of Machine Learning (FML) course in our second year B.Tech.\"\"\"\n",
        "print(f\"Original Sentence : \\n{example_sent}\")\n",
        "example_sent = remove_punctuation(example_sent)\n",
        "print(f\"\\nSentence after removing punctuations : \\n{example_sent}\")\n",
        "example_sent = \" \".join(remove_stopwords(example_sent))\n",
        "print(f\"\\nSentence after removing stopwords : \\n{example_sent}\")"
      ],
      "metadata": {
        "colab": {
          "base_uri": "https://localhost:8080/"
        },
        "id": "LYQmMOkgGBCo",
        "outputId": "1e32fb60-3cfc-4e4f-f306-888886114c66"
      },
      "execution_count": null,
      "outputs": [
        {
          "output_type": "stream",
          "name": "stdout",
          "text": [
            "Original Sentence : \n",
            "We are learning Natural Language Processing (NLP) as part of\n",
            "Fundamentals of Machine Learning (FML) course in our second year B.Tech.\n",
            "\n",
            "Sentence after removing punctuations : \n",
            "We are learning Natural Language Processing NLP as part of\n",
            "Fundamentals of Machine Learning FML course in our second year BTech\n",
            "\n",
            "Sentence after removing stopwords : \n",
            "We learning Natural Language Processing NLP part Fundamentals Machine Learning FML course second year BTech\n"
          ]
        }
      ]
    },
    {
      "cell_type": "code",
      "source": [
        ""
      ],
      "metadata": {
        "id": "n8DhIXZuGBFJ"
      },
      "execution_count": null,
      "outputs": []
    },
    {
      "cell_type": "code",
      "source": [
        ""
      ],
      "metadata": {
        "id": "ODn7_dZxGBIo"
      },
      "execution_count": null,
      "outputs": []
    }
  ]
}