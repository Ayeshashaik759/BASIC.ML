{
  "nbformat": 4,
  "nbformat_minor": 0,
  "metadata": {
    "colab": {
      "name": "Untitled1.ipynb",
      "provenance": [],
      "authorship_tag": "ABX9TyPYIvwVY3PVJH/zHeYl4uwo",
      "include_colab_link": true
    },
    "kernelspec": {
      "name": "python3",
      "display_name": "Python 3"
    },
    "language_info": {
      "name": "python"
    }
  },
  "cells": [
    {
      "cell_type": "markdown",
      "metadata": {
        "id": "view-in-github",
        "colab_type": "text"
      },
      "source": [
        "<a href=\"https://colab.research.google.com/github/Ayeshashaik804/BASIC.ML/blob/main/Untitled1.ipynb\" target=\"_parent\"><img src=\"https://colab.research.google.com/assets/colab-badge.svg\" alt=\"Open In Colab\"/></a>"
      ]
    },
    {
      "cell_type": "code",
      "metadata": {
        "colab": {
          "base_uri": "https://localhost:8080/"
        },
        "id": "7R-kQOmqBpC2",
        "outputId": "1e9500e9-4f8d-4274-a3f0-c30ec5f43f58"
      },
      "source": [
        "a=int(input())\n",
        "b=int(input())\n",
        "c=a+b\n",
        "print(c)"
      ],
      "execution_count": null,
      "outputs": [
        {
          "output_type": "stream",
          "text": [
            "3\n",
            "5\n",
            "8\n"
          ],
          "name": "stdout"
        }
      ]
    },
    {
      "cell_type": "code",
      "metadata": {
        "colab": {
          "base_uri": "https://localhost:8080/"
        },
        "id": "Wcm30R-BBx3t",
        "outputId": "22b4729b-10ba-424a-c6e6-f2b3a63ae37e"
      },
      "source": [
        "a=int(input())\n",
        "if (a%2==0):\n",
        "   print(\"even number\")\n",
        "else:\n",
        "  print(\"odd number\")"
      ],
      "execution_count": null,
      "outputs": [
        {
          "output_type": "stream",
          "text": [
            "6\n",
            "even number\n"
          ],
          "name": "stdout"
        }
      ]
    },
    {
      "cell_type": "code",
      "metadata": {
        "colab": {
          "base_uri": "https://localhost:8080/"
        },
        "id": "8nWcpPyCDDIE",
        "outputId": "08e136db-cbbb-46cf-d533-6943d9489fd3"
      },
      "source": [
        "a=int(input())\n",
        "rem=0\n",
        "n=a\n",
        "while a >0 :\n",
        "  b=a%10\n",
        "  rem =(rem*10)+b\n",
        "  a=a//10\n",
        "if (n==rem):\n",
        "  print(\"given number is a plaindrome\")\n",
        "else:\n",
        "  print(\"given number is not a palindrome\")"
      ],
      "execution_count": null,
      "outputs": [
        {
          "output_type": "stream",
          "text": [
            "12121\n",
            "given number is a plaindrome\n"
          ],
          "name": "stdout"
        }
      ]
    }
  ]
}